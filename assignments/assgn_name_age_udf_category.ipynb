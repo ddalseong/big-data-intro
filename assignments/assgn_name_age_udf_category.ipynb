{
 "cells": [
  {
   "cell_type": "code",
   "execution_count": 11,
   "id": "8c5344ff-713f-4f8a-b548-2bb8f0686d5b",
   "metadata": {},
   "outputs": [],
   "source": [
    "# SparkSession 설정\n",
    "from pyspark.sql import SparkSession \n",
    "\n",
    "spark = SparkSession.builder.master('local').appName('udf').getOrCreate()"
   ]
  },
  {
   "cell_type": "code",
   "execution_count": 12,
   "id": "e67bc9eb-16c5-4c44-a131-2da224c63bea",
   "metadata": {},
   "outputs": [],
   "source": [
    "# 샘플 데이터: 사용자 이름 및 나이\n",
    "users_data = [\n",
    "    ('김성재', 39),\n",
    "    ('이지은', 29),\n",
    "    ('박혜진', 31),\n",
    "    ('최원호', 37),\n",
    "    ('장지윤', 33),\n",
    "    ('윤성환', 45),\n",
    "    ('김하은', 22),\n",
    "    ('박지수', 59),\n",
    "    ('이현우', 64),\n",
    "    ('김은주', 73)\n",
    "]"
   ]
  },
  {
   "cell_type": "code",
   "execution_count": 13,
   "id": "cdcf1f28-8cd0-473a-88ab-310500addd10",
   "metadata": {},
   "outputs": [],
   "source": [
    "# 스키마 정의\n",
    "schema=['name','age']"
   ]
  },
  {
   "cell_type": "code",
   "execution_count": 14,
   "id": "2d93d674-6ad4-4e93-a6f5-b2270a7802ec",
   "metadata": {},
   "outputs": [],
   "source": [
    "# 데이터프레임 생성\n",
    "df=spark.createDataFrame(data=users_data,schema=schema)"
   ]
  },
  {
   "cell_type": "code",
   "execution_count": 15,
   "id": "c97b059c-1a00-4b28-86b5-2a80bd8c91f3",
   "metadata": {},
   "outputs": [
    {
     "name": "stdout",
     "output_type": "stream",
     "text": [
      "+------+---+\n",
      "|  name|age|\n",
      "+------+---+\n",
      "|김성재| 39|\n",
      "|이지은| 29|\n",
      "|박혜진| 31|\n",
      "|최원호| 37|\n",
      "|장지윤| 33|\n",
      "|윤성환| 45|\n",
      "|김하은| 22|\n",
      "|박지수| 59|\n",
      "|이현우| 64|\n",
      "|김은주| 73|\n",
      "+------+---+\n",
      "\n"
     ]
    }
   ],
   "source": [
    "# 데이터프레임 출력\n",
    "df.show()"
   ]
  },
  {
   "cell_type": "code",
   "execution_count": 16,
   "id": "91bda874-6312-4c58-8617-d77d1fff16c2",
   "metadata": {
    "tags": []
   },
   "outputs": [
    {
     "name": "stdout",
     "output_type": "stream",
     "text": [
      "root\n",
      " |-- name: string (nullable = true)\n",
      " |-- age: long (nullable = true)\n",
      "\n"
     ]
    }
   ],
   "source": [
    "# 데이터프레임 스키마 출력\n",
    "df.printSchema()"
   ]
  },
  {
   "cell_type": "code",
   "execution_count": 17,
   "id": "a57c03e6-0ab4-4e40-8dd2-db07e698dd60",
   "metadata": {},
   "outputs": [],
   "source": [
    "# Temporary View 생성\n",
    "df.createOrReplaceTempView('users')"
   ]
  },
  {
   "cell_type": "code",
   "execution_count": 18,
   "id": "f2b1802e-7273-4bf0-9d61-e64afd421514",
   "metadata": {},
   "outputs": [],
   "source": [
    "# UDF: 나이 카테고리 변환 함수\n",
    "def age_category(age):\n",
    "    if age < 35:\n",
    "        return 'young'\n",
    "    elif 35 <= age < 60:\n",
    "        return 'adult'\n",
    "    else:\n",
    "        return 'senior'\n"
   ]
  },
  {
   "cell_type": "code",
   "execution_count": 19,
   "id": "4845df38-773d-430b-b20f-c3a83d65777c",
   "metadata": {},
   "outputs": [
    {
     "data": {
      "text/plain": [
       "<function __main__.age_category(age)>"
      ]
     },
     "execution_count": 19,
     "metadata": {},
     "output_type": "execute_result"
    }
   ],
   "source": [
    "# UDF 등록\n",
    "spark.udf.register('age_category', age_category)"
   ]
  },
  {
   "cell_type": "code",
   "execution_count": 20,
   "id": "583aad10-dd27-4303-a19c-e3770c97a823",
   "metadata": {
    "scrolled": true,
    "tags": []
   },
   "outputs": [
    {
     "name": "stdout",
     "output_type": "stream",
     "text": [
      "+------+------------+\n",
      "|  name|age_category|\n",
      "+------+------------+\n",
      "|김성재|       adult|\n",
      "|이지은|       young|\n",
      "|박혜진|       young|\n",
      "|최원호|       adult|\n",
      "|장지윤|       young|\n",
      "|윤성환|       adult|\n",
      "|김하은|       young|\n",
      "|박지수|       adult|\n",
      "|이현우|      senior|\n",
      "|김은주|      senior|\n",
      "+------+------------+\n",
      "\n"
     ]
    }
   ],
   "source": [
    "# SQL문 처리\n",
    "spark.sql(\"SELECT name, age_category(age) AS age_category FROM users\").show()"
   ]
  }
 ],
 "metadata": {
  "kernelspec": {
   "display_name": "Python 3 (ipykernel)",
   "language": "python",
   "name": "python3"
  },
  "language_info": {
   "codemirror_mode": {
    "name": "ipython",
    "version": 3
   },
   "file_extension": ".py",
   "mimetype": "text/x-python",
   "name": "python",
   "nbconvert_exporter": "python",
   "pygments_lexer": "ipython3",
   "version": "3.9.13"
  }
 },
 "nbformat": 4,
 "nbformat_minor": 5
}
